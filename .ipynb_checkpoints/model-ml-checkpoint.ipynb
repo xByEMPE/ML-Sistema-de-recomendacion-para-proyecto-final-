{
 "cells": [
  {
   "cell_type": "code",
   "execution_count": 2,
   "id": "9c9629da-745d-4566-ae6f-30b5cac66bdf",
   "metadata": {
    "tags": []
   },
   "outputs": [],
   "source": [
    "from google.cloud import storage\n",
    "import pandas as pd\n",
    "from io import StringIO"
   ]
  },
  {
   "cell_type": "code",
   "execution_count": 3,
   "id": "7937ebab-f5d8-45fa-86bc-4a52002a8a2a",
   "metadata": {
    "tags": []
   },
   "outputs": [],
   "source": [
    "# Configurar cliente de Google Cloud Storage\n",
    "client = storage.Client()"
   ]
  },
  {
   "cell_type": "code",
   "execution_count": 4,
   "id": "87a97d75-26b9-40ca-8b79-fec5d4d5318f",
   "metadata": {
    "tags": []
   },
   "outputs": [],
   "source": [
    "# Nombre del bucket y directorio dentro de GCS\n",
    "bucket_name = \"datos_gl_bucket\"\n",
    "folder_path = \"Google Maps/limpios_estados/\""
   ]
  },
  {
   "cell_type": "code",
   "execution_count": 6,
   "id": "973743be-8a4b-4760-a18a-1b0359a61662",
   "metadata": {
    "tags": []
   },
   "outputs": [],
   "source": [
    "# Obtener el bucket\n",
    "bucket = client.get_bucket(bucket_name)"
   ]
  },
  {
   "cell_type": "code",
   "execution_count": 7,
   "id": "3a461a17-8cfa-43e5-bf16-46e5fc4d2bef",
   "metadata": {
    "tags": []
   },
   "outputs": [],
   "source": [
    "# Listar archivos en la carpeta\n",
    "blobs = bucket.list_blobs(prefix=folder_path)\n",
    "csv_files = [blob.name for blob in blobs if blob.name.endswith(\".csv\")]"
   ]
  },
  {
   "cell_type": "code",
   "execution_count": 8,
   "id": "b5d0add1-a47e-4093-bc5e-e4483491acd4",
   "metadata": {
    "tags": []
   },
   "outputs": [
    {
     "name": "stdout",
     "output_type": "stream",
     "text": [
      "Archivos CSV encontrados:\n",
      "Google Maps/limpios_estados/review-Alabama_todo.csv\n",
      "Google Maps/limpios_estados/review-Alaska_todo.csv\n",
      "Google Maps/limpios_estados/review-Arizona_todo-checkpoint.csv\n",
      "Google Maps/limpios_estados/review-Arizona_todo.csv\n",
      "Google Maps/limpios_estados/review-Arkansas_todo.csv\n",
      "Google Maps/limpios_estados/review-California_todo.csv\n",
      "Google Maps/limpios_estados/review-Colorado_todo.csv\n",
      "Google Maps/limpios_estados/review-Connecticut_todo.csv\n",
      "Google Maps/limpios_estados/review-Delaware_todo.csv\n",
      "Google Maps/limpios_estados/review-District_of_Columbia_todo.csv\n",
      "Google Maps/limpios_estados/review-Florida_todo.csv\n",
      "Google Maps/limpios_estados/review-Georgia_todo.csv\n",
      "Google Maps/limpios_estados/review-Hawaii_todo.csv\n",
      "Google Maps/limpios_estados/review-Idaho_todo.csv\n",
      "Google Maps/limpios_estados/review-Illinois_todo.csv\n",
      "Google Maps/limpios_estados/review-Indiana_todo.csv\n",
      "Google Maps/limpios_estados/review-Iowa_todo.csv\n",
      "Google Maps/limpios_estados/review-Kansas_todo.csv\n",
      "Google Maps/limpios_estados/review-Kentucky_todo.csv\n",
      "Google Maps/limpios_estados/review-Louisiana_todo.csv\n",
      "Google Maps/limpios_estados/review-Maine_todo.csv\n",
      "Google Maps/limpios_estados/review-Maryland_todo.csv\n",
      "Google Maps/limpios_estados/review-Massachusetts_todo.csv\n",
      "Google Maps/limpios_estados/review-Michigan_todo.csv\n",
      "Google Maps/limpios_estados/review-Minnesota_todo.csv\n",
      "Google Maps/limpios_estados/review-Mississippi_todo.csv\n",
      "Google Maps/limpios_estados/review-Missouri_todo.csv\n",
      "Google Maps/limpios_estados/review-Montana_todo.csv\n",
      "Google Maps/limpios_estados/review-Nebraska_todo.csv\n",
      "Google Maps/limpios_estados/review-Nevada_todo.csv\n",
      "Google Maps/limpios_estados/review-New_Hampshire_todo.csv\n",
      "Google Maps/limpios_estados/review-New_Jersey_todo.csv\n",
      "Google Maps/limpios_estados/review-New_Mexico_todo.csv\n",
      "Google Maps/limpios_estados/review-New_York_todo.csv\n",
      "Google Maps/limpios_estados/review-North_Carolina_todo.csv\n",
      "Google Maps/limpios_estados/review-North_Dakota_todo.csv\n",
      "Google Maps/limpios_estados/review-Ohio_todo.csv\n",
      "Google Maps/limpios_estados/review-Oklahoma_todo.csv\n",
      "Google Maps/limpios_estados/review-Oregon_todo.csv\n",
      "Google Maps/limpios_estados/review-Pennsylvania_todo.csv\n",
      "Google Maps/limpios_estados/review-Rhode_Island_todo.csv\n",
      "Google Maps/limpios_estados/review-South_Carolina_todo.csv\n",
      "Google Maps/limpios_estados/review-South_Dakota_todo.csv\n",
      "Google Maps/limpios_estados/review-Tennessee_todo.csv\n",
      "Google Maps/limpios_estados/review-Virginia_todo.csv\n",
      "Google Maps/limpios_estados/review-Washington_todo.csv\n",
      "Google Maps/limpios_estados/review-West_Virginia_todo.csv\n",
      "Google Maps/limpios_estados/review-Wisconsin_todo.csv\n",
      "Google Maps/limpios_estados/review-Wyoming_todo.csv\n"
     ]
    }
   ],
   "source": [
    "print(\"Archivos CSV encontrados:\")\n",
    "for file in csv_files:\n",
    "    print(file)"
   ]
  },
  {
   "cell_type": "code",
   "execution_count": 12,
   "id": "0d4f9d71-faf1-4e34-b0b9-977bbd9e119a",
   "metadata": {
    "tags": []
   },
   "outputs": [],
   "source": [
    "# Leer un archivo CSV de ejemplo\n",
    "file_name = \"Google Maps/limpios_estados/review-Virginia_todo.csv\"\n",
    "blob = bucket.blob(file_name)\n",
    "content = blob.download_as_text()"
   ]
  },
  {
   "cell_type": "code",
   "execution_count": 13,
   "id": "875d2ecc-2162-4cba-88ef-026885ce8c2a",
   "metadata": {
    "tags": []
   },
   "outputs": [
    {
     "name": "stdout",
     "output_type": "stream",
     "text": [
      "        user_id               name  rating text resp  \\\n",
      "0  1.077967e+20        jake condra       4  NaN   no   \n",
      "1  1.081519e+20  Nicholas Hertzler       4  NaN   no   \n",
      "2  1.115870e+20     Atchuthan Sris       5  NaN   no   \n",
      "3  1.084232e+20         Wes Noneya       5  NaN   no   \n",
      "4  1.113796e+20            Tyler M       5  NaN   no   \n",
      "\n",
      "                                 gmap_id                    fecha   año  mes  \n",
      "0  0x89b492c92ee68717:0x7342bbf246de880b  2017-12-17 12:04:33.617  2017   12  \n",
      "1  0x89b492c92ee68717:0x7342bbf246de880b  2017-01-20 21:29:34.158  2017    1  \n",
      "2  0x89b492c92ee68717:0x7342bbf246de880b  2018-06-15 20:26:58.497  2018    6  \n",
      "3  0x89b492c92ee68717:0x7342bbf246de880b  2018-03-07 04:04:48.493  2018    3  \n",
      "4  0x89b492c92ee68717:0x7342bbf246de880b  2019-08-09 15:39:12.616  2019    8  \n"
     ]
    }
   ],
   "source": [
    "df = pd.read_csv(StringIO(content))\n",
    "print(df.head())  "
   ]
  },
  {
   "cell_type": "code",
   "execution_count": null,
   "id": "a6a98b4a-b888-4ff3-98e2-59d25a952a41",
   "metadata": {},
   "outputs": [],
   "source": []
  }
 ],
 "metadata": {
  "environment": {
   "kernel": "conda-base-py",
   "name": "workbench-notebooks.m128",
   "type": "gcloud",
   "uri": "us-docker.pkg.dev/deeplearning-platform-release/gcr.io/workbench-notebooks:m128"
  },
  "kernelspec": {
   "display_name": "Python 3 (ipykernel) (Local)",
   "language": "python",
   "name": "conda-base-py"
  },
  "language_info": {
   "codemirror_mode": {
    "name": "ipython",
    "version": 3
   },
   "file_extension": ".py",
   "mimetype": "text/x-python",
   "name": "python",
   "nbconvert_exporter": "python",
   "pygments_lexer": "ipython3",
   "version": "3.10.16"
  }
 },
 "nbformat": 4,
 "nbformat_minor": 5
}
