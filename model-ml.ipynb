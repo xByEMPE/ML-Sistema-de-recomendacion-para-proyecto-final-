{
 "cells": [
  {
   "cell_type": "code",
   "execution_count": 10,
   "id": "a1aee1e8-d5db-413f-ba0b-f4a3ca80cc40",
   "metadata": {
    "tags": []
   },
   "outputs": [
    {
     "name": "stdout",
     "output_type": "stream",
     "text": [
      "Requirement already satisfied: google-cloud-bigquery in /opt/conda/lib/python3.10/site-packages (3.30.0)\n",
      "Requirement already satisfied: pandas in /opt/conda/lib/python3.10/site-packages (2.2.3)\n",
      "Requirement already satisfied: textblob in /opt/conda/lib/python3.10/site-packages (0.19.0)\n",
      "Requirement already satisfied: nltk in /opt/conda/lib/python3.10/site-packages (3.9.1)\n",
      "Requirement already satisfied: google-api-core<3.0.0dev,>=2.11.1 in /opt/conda/lib/python3.10/site-packages (from google-api-core[grpc]<3.0.0dev,>=2.11.1->google-cloud-bigquery) (2.24.2)\n",
      "Requirement already satisfied: google-auth<3.0.0dev,>=2.14.1 in /opt/conda/lib/python3.10/site-packages (from google-cloud-bigquery) (2.38.0)\n",
      "Requirement already satisfied: google-cloud-core<3.0.0dev,>=2.4.1 in /opt/conda/lib/python3.10/site-packages (from google-cloud-bigquery) (2.4.1)\n",
      "Requirement already satisfied: google-resumable-media<3.0dev,>=2.0.0 in /opt/conda/lib/python3.10/site-packages (from google-cloud-bigquery) (2.7.2)\n",
      "Requirement already satisfied: packaging>=20.0.0 in /opt/conda/lib/python3.10/site-packages (from google-cloud-bigquery) (24.2)\n",
      "Requirement already satisfied: python-dateutil<3.0dev,>=2.7.3 in /opt/conda/lib/python3.10/site-packages (from google-cloud-bigquery) (2.9.0.post0)\n",
      "Requirement already satisfied: requests<3.0.0dev,>=2.21.0 in /opt/conda/lib/python3.10/site-packages (from google-cloud-bigquery) (2.32.3)\n",
      "Requirement already satisfied: numpy>=1.22.4 in /opt/conda/lib/python3.10/site-packages (from pandas) (1.26.4)\n",
      "Requirement already satisfied: pytz>=2020.1 in /opt/conda/lib/python3.10/site-packages (from pandas) (2025.1)\n",
      "Requirement already satisfied: tzdata>=2022.7 in /opt/conda/lib/python3.10/site-packages (from pandas) (2025.1)\n",
      "Requirement already satisfied: click in /opt/conda/lib/python3.10/site-packages (from nltk) (8.1.8)\n",
      "Requirement already satisfied: joblib in /opt/conda/lib/python3.10/site-packages (from nltk) (1.4.2)\n",
      "Requirement already satisfied: regex>=2021.8.3 in /opt/conda/lib/python3.10/site-packages (from nltk) (2024.11.6)\n",
      "Requirement already satisfied: tqdm in /opt/conda/lib/python3.10/site-packages (from nltk) (4.67.1)\n",
      "Requirement already satisfied: googleapis-common-protos<2.0.0,>=1.56.2 in /opt/conda/lib/python3.10/site-packages (from google-api-core<3.0.0dev,>=2.11.1->google-api-core[grpc]<3.0.0dev,>=2.11.1->google-cloud-bigquery) (1.66.0)\n",
      "Requirement already satisfied: protobuf!=3.20.0,!=3.20.1,!=4.21.0,!=4.21.1,!=4.21.2,!=4.21.3,!=4.21.4,!=4.21.5,<7.0.0,>=3.19.5 in /opt/conda/lib/python3.10/site-packages (from google-api-core<3.0.0dev,>=2.11.1->google-api-core[grpc]<3.0.0dev,>=2.11.1->google-cloud-bigquery) (3.20.3)\n",
      "Requirement already satisfied: proto-plus<2.0.0,>=1.22.3 in /opt/conda/lib/python3.10/site-packages (from google-api-core<3.0.0dev,>=2.11.1->google-api-core[grpc]<3.0.0dev,>=2.11.1->google-cloud-bigquery) (1.26.0)\n",
      "Requirement already satisfied: grpcio<2.0dev,>=1.33.2 in /opt/conda/lib/python3.10/site-packages (from google-api-core[grpc]<3.0.0dev,>=2.11.1->google-cloud-bigquery) (1.70.0)\n",
      "Requirement already satisfied: grpcio-status<2.0.dev0,>=1.33.2 in /opt/conda/lib/python3.10/site-packages (from google-api-core[grpc]<3.0.0dev,>=2.11.1->google-cloud-bigquery) (1.49.0rc1)\n",
      "Requirement already satisfied: cachetools<6.0,>=2.0.0 in /opt/conda/lib/python3.10/site-packages (from google-auth<3.0.0dev,>=2.14.1->google-cloud-bigquery) (5.5.1)\n",
      "Requirement already satisfied: pyasn1-modules>=0.2.1 in /opt/conda/lib/python3.10/site-packages (from google-auth<3.0.0dev,>=2.14.1->google-cloud-bigquery) (0.4.1)\n",
      "Requirement already satisfied: rsa<5,>=3.1.4 in /opt/conda/lib/python3.10/site-packages (from google-auth<3.0.0dev,>=2.14.1->google-cloud-bigquery) (4.9)\n",
      "Requirement already satisfied: google-crc32c<2.0dev,>=1.0 in /opt/conda/lib/python3.10/site-packages (from google-resumable-media<3.0dev,>=2.0.0->google-cloud-bigquery) (1.6.0)\n",
      "Requirement already satisfied: six>=1.5 in /opt/conda/lib/python3.10/site-packages (from python-dateutil<3.0dev,>=2.7.3->google-cloud-bigquery) (1.17.0)\n",
      "Requirement already satisfied: charset_normalizer<4,>=2 in /opt/conda/lib/python3.10/site-packages (from requests<3.0.0dev,>=2.21.0->google-cloud-bigquery) (3.4.1)\n",
      "Requirement already satisfied: idna<4,>=2.5 in /opt/conda/lib/python3.10/site-packages (from requests<3.0.0dev,>=2.21.0->google-cloud-bigquery) (3.10)\n",
      "Requirement already satisfied: urllib3<3,>=1.21.1 in /opt/conda/lib/python3.10/site-packages (from requests<3.0.0dev,>=2.21.0->google-cloud-bigquery) (1.26.20)\n",
      "Requirement already satisfied: certifi>=2017.4.17 in /opt/conda/lib/python3.10/site-packages (from requests<3.0.0dev,>=2.21.0->google-cloud-bigquery) (2024.12.14)\n",
      "Requirement already satisfied: pyasn1<0.7.0,>=0.4.6 in /opt/conda/lib/python3.10/site-packages (from pyasn1-modules>=0.2.1->google-auth<3.0.0dev,>=2.14.1->google-cloud-bigquery) (0.6.1)\n",
      "\n",
      "\u001b[1m[\u001b[0m\u001b[34;49mnotice\u001b[0m\u001b[1;39;49m]\u001b[0m\u001b[39;49m A new release of pip is available: \u001b[0m\u001b[31;49m25.0\u001b[0m\u001b[39;49m -> \u001b[0m\u001b[32;49m25.0.1\u001b[0m\n",
      "\u001b[1m[\u001b[0m\u001b[34;49mnotice\u001b[0m\u001b[1;39;49m]\u001b[0m\u001b[39;49m To update, run: \u001b[0m\u001b[32;49mpip install --upgrade pip\u001b[0m\n"
     ]
    }
   ],
   "source": [
    "!pip install --upgrade google-cloud-bigquery pandas textblob nltk\n"
   ]
  },
  {
   "cell_type": "code",
   "execution_count": 17,
   "id": "eb448668-6ab5-4c2b-b4ba-97161a447ca5",
   "metadata": {
    "tags": []
   },
   "outputs": [
    {
     "name": "stderr",
     "output_type": "stream",
     "text": [
      "[nltk_data] Downloading package punkt to /home/jupyter/nltk_data...\n",
      "[nltk_data]   Package punkt is already up-to-date!\n"
     ]
    },
    {
     "data": {
      "text/plain": [
       "True"
      ]
     },
     "execution_count": 17,
     "metadata": {},
     "output_type": "execute_result"
    }
   ],
   "source": [
    "import os\n",
    "from google.cloud import bigquery\n",
    "import pandas as pd\n",
    "import nltk\n",
    "from textblob import TextBlob\n",
    "import numpy as np\n",
    "nltk.download('punkt')"
   ]
  },
  {
   "cell_type": "code",
   "execution_count": 13,
   "id": "fc1c72b9-bed6-4b02-9be5-c39723b9038c",
   "metadata": {
    "tags": []
   },
   "outputs": [],
   "source": [
    "PROJECT_ID = \"robotic-aviary-451823-k6\"\n",
    "DATASET_ID = \"cargaAzure\"\n"
   ]
  },
  {
   "cell_type": "code",
   "execution_count": 14,
   "id": "068d9c20-c7c6-40fa-8c0e-58852230886f",
   "metadata": {
    "tags": []
   },
   "outputs": [],
   "source": [
    "client = bigquery.Client(project=PROJECT_ID)"
   ]
  },
  {
   "cell_type": "code",
   "execution_count": 4,
   "id": "3c50e4f9-01cb-4c94-bb90-606ae072ff6b",
   "metadata": {
    "tags": []
   },
   "outputs": [
    {
     "name": "stdout",
     "output_type": "stream",
     "text": [
      "Tabla Business:\n",
      "              business_id            name                address         city  \\\n",
      "0  CvNdlrRJWajPz7gWoQAeJQ    Metro Grille         380 US Hwy 206     Flanders   \n",
      "1  l3pO6YTjFUgVoXgm3gfUag  Ichiban Buffet    2230 Marlton Pike W  Cherry Hill   \n",
      "2  avL_U1I6iFd8CIHVds31zg  New China Moon     906 Marlton Pike W  Cherry Hill   \n",
      "3  N5yjty7R5XN2_hIwW-2Iyg    Jjang Ga Nae         2431 Church Rd  Cherry Hill   \n",
      "4  Eq3utoa11OyZD3sSgjoV8Q         Thaimax  2000 Rte 38, Spc FC38  Cherry Hill   \n",
      "\n",
      "  state postal_code   latitude  longitude  stars  review_count  is_open  \\\n",
      "0    LA       07836  39.949904 -75.161599    3.0            17        0   \n",
      "1    FL       08002  39.923146 -75.043054    2.5            48        0   \n",
      "2    IN       08002  39.916201 -75.021315    4.0             8        0   \n",
      "3    PA       08002  39.940299 -75.008033    4.0            40        1   \n",
      "4    FL       08002  39.943306 -75.026226    2.5             9        1   \n",
      "\n",
      "                                          attributes  \\\n",
      "0  {'BusinessAcceptsCreditCards': 'True', 'Restau...   \n",
      "1  {'Ambience': \"{'romantic': False, 'intimate': ...   \n",
      "2  {'HasTV': 'True', 'RestaurantsPriceRange2': '1...   \n",
      "3  {'GoodForKids': 'True', 'RestaurantsTakeOut': ...   \n",
      "4  {'RestaurantsGoodForGroups': 'True', 'Restaura...   \n",
      "\n",
      "                                  categories  \\\n",
      "0  Restaurants, Asian Fusion, American (New)   \n",
      "1    Restaurants, Buffets, Chinese, Japanese   \n",
      "2                       Restaurants, Chinese   \n",
      "3               Korean, Chinese, Restaurants   \n",
      "4                          Restaurants, Thai   \n",
      "\n",
      "                                               hours food_subcategory  \n",
      "0  {'Monday': '16:30-22:0', 'Tuesday': '16:30-22:...         Asiática  \n",
      "1  {'Monday': '11:0-22:0', 'Tuesday': '11:0-22:0'...         Asiática  \n",
      "2  {'Monday': '11:0-22:0', 'Tuesday': '11:0-22:0'...         Asiática  \n",
      "3  {'Monday': '11:0-22:0', 'Tuesday': '11:0-22:0'...         Asiática  \n",
      "4  {'Monday': '11:0-19:0', 'Tuesday': '11:0-19:0'...         Asiática   \n",
      "\n"
     ]
    }
   ],
   "source": [
    "# Ejemplo: leer la tabla Business\n",
    "df_business = client.query(f\"\"\"\n",
    "    SELECT *\n",
    "    FROM `{PROJECT_ID}.{DATASET_ID}.Business`\n",
    "\"\"\").to_dataframe()\n",
    "\n",
    "print(\"Tabla Business:\")\n",
    "print(df_business.head(), \"\\n\")\n"
   ]
  },
  {
   "cell_type": "code",
   "execution_count": 91,
   "id": "24080556-1550-4aaf-80ca-25be620e721f",
   "metadata": {
    "tags": []
   },
   "outputs": [
    {
     "name": "stdout",
     "output_type": "stream",
     "text": [
      "Tabla CheckinYelp:\n",
      "   year  month             business_id  count\n",
      "0  2011      1  0R2yKDNMUztQwgo8pG4z-Q     19\n",
      "1  2011      1  20-EyTyDc2-a30iDAQj64g     22\n",
      "2  2011      1  4NozMd-0ufrS7sUZ95948w     22\n",
      "3  2011      1  4hv1n1VBzMvE-T4UtIcOcw     28\n",
      "4  2011      1  4i4kmYm9wgSNyF1b6gKphg    135 \n",
      "\n"
     ]
    }
   ],
   "source": [
    "# Leer la tabla CheckinYelp\n",
    "df_checkin = client.query(f\"\"\"\n",
    "    SELECT *\n",
    "    FROM `{PROJECT_ID}.{DATASET_ID}.CheckinYelp`\n",
    "\"\"\").to_dataframe()\n",
    "\n",
    "print(\"Tabla CheckinYelp:\")\n",
    "print(df_checkin.head(), \"\\n\")\n"
   ]
  },
  {
   "cell_type": "code",
   "execution_count": 92,
   "id": "19b6274d-ddb1-4db3-b2f2-561fa1502b47",
   "metadata": {
    "tags": []
   },
   "outputs": [
    {
     "name": "stdout",
     "output_type": "stream",
     "text": [
      "Tabla Metadata:\n",
      "                    name                                            address  \\\n",
      "0               Gymboree  Gymboree, 5959 Triangle Town Blvd, Raleigh, NC...   \n",
      "1           Jos. A. Bank  Jos. A. Bank, 4252 St Michael Dr A, Texarkana,...   \n",
      "2  Jones New York Outlet  Jones New York Outlet, 5667 York Rd., New Hope...   \n",
      "3         ATM (7-Eleven)  ATM (7-Eleven), 2800 S College Ave, Fort Colli...   \n",
      "4         ATM (7-Eleven)  ATM (7-Eleven), 110 S Mildred St, Ranson, WV 2...   \n",
      "\n",
      "                                 gmap_id  \\\n",
      "0  0x89ac598d0a352f49:0xcbcbf69c74191444   \n",
      "1  0x8634418f19a16731:0x7a8306b43d2a8bf7   \n",
      "2  0x89c4010adf2076b9:0x2ca504feed492b2d   \n",
      "3  0x87694b0ade6d4759:0x2fd4c91d431f9c93   \n",
      "4  0x89b601a0bed83abf:0x71ed6ca584d09849   \n",
      "\n",
      "                                         description   latitude   longitude  \\\n",
      "0  Children's apparel chain featuring high-qualit...  35.866681  -78.575822   \n",
      "1  Menswear chain offering house-label suits, dre...  33.454634  -94.096602   \n",
      "2  Womenswear chain offering the Jones New York b...  40.344616  -75.037487   \n",
      "3  Convenience chain offering grab-&-go bites & b...  40.548519 -105.076466   \n",
      "4  Convenience chain offering grab-&-go bites & b...  39.296207  -77.861452   \n",
      "\n",
      "                                            category  avg_rating  \\\n",
      "0  [\"Children's clothing store\", 'Baby clothing s...         1.0   \n",
      "1  [\"Men's clothing store\", 'Clothing alteration ...         1.0   \n",
      "2                         [\"Women's clothing store\"]         1.0   \n",
      "3                                            ['ATM']         1.0   \n",
      "4                                            ['ATM']         1.0   \n",
      "\n",
      "   num_of_reviews                                               MISC  \\\n",
      "0               2  {'Accessibility': ['Wheelchair accessible entr...   \n",
      "1               1  {'Accessibility': ['Wheelchair accessible entr...   \n",
      "2               1  {'Service options': ['In-store pickup', 'In-st...   \n",
      "3               2  {'Accessibility': ['Wheelchair accessible entr...   \n",
      "4               1  {'Accessibility': ['Wheelchair accessible entr...   \n",
      "\n",
      "                                    relative_results  \n",
      "0  ['0x89acf647257d1c81:0x4bca4880c7e27d4b', '0x8...  \n",
      "1  ['0x863441f74b55f083:0x3e3dd5a3e1cf1cca', '0x8...  \n",
      "2  ['0x89c40109491f915b:0x97aa6efe51b9ce51', '0x8...  \n",
      "3  ['0x87694b90e23dba01:0xcdbeed1d0a6d07c0', '0x8...  \n",
      "4  ['0x89b601a0e868dbf5:0x129199c7a6d336e8', '0x8...   \n",
      "\n"
     ]
    }
   ],
   "source": [
    "# Leer la tabla Metadata\n",
    "df_metadata = client.query(f\"\"\"\n",
    "    SELECT *\n",
    "    FROM `{PROJECT_ID}.{DATASET_ID}.Metadata`\n",
    "\"\"\").to_dataframe()\n",
    "\n",
    "print(\"Tabla Metadata:\")\n",
    "print(df_metadata.head(), \"\\n\")\n"
   ]
  },
  {
   "cell_type": "code",
   "execution_count": 93,
   "id": "ea78e721-64ef-4857-8ce2-02455cae568a",
   "metadata": {
    "tags": []
   },
   "outputs": [
    {
     "name": "stdout",
     "output_type": "stream",
     "text": [
      "Tabla TipYelp:\n",
      "                       date  \\\n",
      "0 2021-12-03 18:35:53+00:00   \n",
      "1 2021-01-12 23:10:44+00:00   \n",
      "2 2021-03-30 03:53:21+00:00   \n",
      "3 2021-09-23 16:58:31+00:00   \n",
      "4 2009-07-30 15:13:31+00:00   \n",
      "\n",
      "                                                text             business_id  \\\n",
      "0  Awesome raw bar /fish shack. Exactly how I liv...  ---kPU91CF4Lq2-WlRu9Lw   \n",
      "1                                          Excellent  ---kPU91CF4Lq2-WlRu9Lw   \n",
      "2                       Great place! Excellent Food!  ---kPU91CF4Lq2-WlRu9Lw   \n",
      "3  Great food & service!!  Crab cakes were excell...  ---kPU91CF4Lq2-WlRu9Lw   \n",
      "4  Gets crowded the weekend so just order ahead o...  --0iUa4sNDFiZFrAdIWhZQ   \n",
      "\n",
      "                  user_id  \n",
      "0  zmgsdGzOp08BWJZ2yrOKww  \n",
      "1  VjvrRYcqu34DyBns0R11bg  \n",
      "2  VjvrRYcqu34DyBns0R11bg  \n",
      "3  St3aCytjxiMN-5OvFvcgSw  \n",
      "4  DPSY6qV8RmQZ_XlIjIw_SA   \n",
      "\n"
     ]
    }
   ],
   "source": [
    "# Leer la tabla TipYelp\n",
    "df_tip = client.query(f\"\"\"\n",
    "    SELECT *\n",
    "    FROM `{PROJECT_ID}.{DATASET_ID}.TipYelp`\n",
    "\"\"\").to_dataframe()\n",
    "\n",
    "print(\"Tabla TipYelp:\")\n",
    "print(df_tip.head(), \"\\n\")\n"
   ]
  },
  {
   "cell_type": "code",
   "execution_count": 95,
   "id": "0bda7449-18b5-48a8-b31e-616bce85f7a0",
   "metadata": {
    "tags": []
   },
   "outputs": [
    {
     "name": "stdout",
     "output_type": "stream",
     "text": [
      "Tabla UserYelp:\n",
      "                  user_id    name  review_count             yelping_since  \\\n",
      "0  dndNhmq53DQc_435ULZuZA  Andrea             9 2012-05-20 02:07:28+00:00   \n",
      "1  cv5lvFv5ACXy6ynBDR8LHQ       D            12 2009-01-05 04:56:03+00:00   \n",
      "2  bb0rXc2r6EqP8FMzv5DQMQ       M            12 2013-09-21 18:44:20+00:00   \n",
      "3  RQZLRrWEGPIk67Sc99gB_w  Jordan             7 2015-01-24 20:34:14+00:00   \n",
      "4  Rz-647pdX6R-zfwOkrEu1w  Dianna            18 2014-09-09 23:07:17+00:00   \n",
      "\n",
      "   useful  funny  cool  elite  \\\n",
      "0       5      0     1    NaN   \n",
      "1       5      1     5    NaN   \n",
      "2      15      0     2    NaN   \n",
      "3      10      4     4    NaN   \n",
      "4       6      0     1    NaN   \n",
      "\n",
      "                                             friends  fans  ...  \\\n",
      "0  X9QUdDSuBpVxfvn6hl1Sdg, eEiucuhnWjkDF28QRk4LXA...     1  ...   \n",
      "1                                               None     0  ...   \n",
      "2                                               None     0  ...   \n",
      "3  ZI7nrsJ2qxr5iFoUWfhY3w, hXUgby3bXIu5d7A-tmkRZg...     0  ...   \n",
      "4  Gk1ctUSpfGyhC5iUbvwL_w, 5P3dp7RCp_iPpCY753Nfzg...     0  ...   \n",
      "\n",
      "   compliment_cute  compliment_list  compliment_note  compliment_plain  \\\n",
      "0                0                0                0                 0   \n",
      "1                0                0                0                 0   \n",
      "2                0                0                1                 0   \n",
      "3                0                0                2                 0   \n",
      "4                0                0                0                 0   \n",
      "\n",
      "   compliment_cool  compliment_funny  compliment_writer  compliment_photos  \\\n",
      "0                0                 0                  0                  0   \n",
      "1                0                 0                  1                  0   \n",
      "2                0                 0                  0                  0   \n",
      "3                0                 0                  0                  0   \n",
      "4                0                 0                  0                  0   \n",
      "\n",
      "   yelping_since_anio  yelping_since_mes  \n",
      "0                2012                  5  \n",
      "1                2009                  1  \n",
      "2                2013                  9  \n",
      "3                2015                  1  \n",
      "4                2014                  9  \n",
      "\n",
      "[5 rows x 24 columns] \n",
      "\n"
     ]
    }
   ],
   "source": [
    "# Leer la tabla UserYelp\n",
    "df_user = client.query(f\"\"\"\n",
    "    SELECT *\n",
    "    FROM `{PROJECT_ID}.{DATASET_ID}.UserYelp`\n",
    "\"\"\").to_dataframe()\n",
    "\n",
    "print(\"Tabla UserYelp:\")\n",
    "print(df_user.head(), \"\\n\")\n"
   ]
  },
  {
   "cell_type": "code",
   "execution_count": 96,
   "id": "dfdf301b-e16b-4ed4-89a7-83d0fcdb66e9",
   "metadata": {
    "tags": []
   },
   "outputs": [
    {
     "name": "stdout",
     "output_type": "stream",
     "text": [
      "Tabla avgRating:\n",
      "                                 gmap_id  avg_rating source_table\n",
      "0  0x14f70cfab79d0783:0xa051851bf1e43401    4.397959      Alabama\n",
      "1  0x15201092d1174ed9:0xd96ae59317b419a4    4.068966      Alabama\n",
      "2  0x88112d0a1aded3ff:0x47f3a202c946f882    3.800000      Alabama\n",
      "3  0x8861bbd7a57fcee1:0xfcc815326141da7f    4.404762      Alabama\n",
      "4  0x8861c475533ef851:0xdc2487560a19e822    3.538462      Alabama \n",
      "\n"
     ]
    }
   ],
   "source": [
    "# Leer la tabla avgRating\n",
    "df_avg_rating = client.query(f\"\"\"\n",
    "    SELECT *\n",
    "    FROM `{PROJECT_ID}.{DATASET_ID}.avgRating`\n",
    "\"\"\").to_dataframe()\n",
    "\n",
    "print(\"Tabla avgRating:\")\n",
    "print(df_avg_rating.head(), \"\\n\")\n",
    "\n"
   ]
  },
  {
   "cell_type": "code",
   "execution_count": 5,
   "id": "e02e4e4d-95ab-4df1-8b94-ed48ebee93c1",
   "metadata": {
    "tags": []
   },
   "outputs": [
    {
     "name": "stdout",
     "output_type": "stream",
     "text": [
      "Tabla calificacionAnio:\n",
      "   year  month              name                 user_id  count\n",
      "0  2017      1  Dagwood Bumstead  1.0964504379893349e+20      1\n",
      "1  2017      1     Brooke Holmes  1.1700525339735997e+20      1\n",
      "2  2018      1    Crystal Pooley  1.0466150797987058e+20      1\n",
      "3  2019      1      Pam Jennings  1.0609753852092437e+20      1\n",
      "4  2021      1       Billy Hutto  1.0628189323509101e+20      1 \n",
      "\n"
     ]
    }
   ],
   "source": [
    "# Leer la tabla calificacionAnio\n",
    "df_calificacion_anio = client.query(f\"\"\"\n",
    "    SELECT *\n",
    "    FROM `{PROJECT_ID}.{DATASET_ID}.calificacionAnio`\n",
    "\"\"\").to_dataframe()\n",
    "\n",
    "print(\"Tabla calificacionAnio:\")\n",
    "print(df_calificacion_anio.head(), \"\\n\")\n"
   ]
  },
  {
   "cell_type": "code",
   "execution_count": 6,
   "id": "f1ff1443-e04a-4e6f-a837-f81068e1d5ee",
   "metadata": {
    "tags": []
   },
   "outputs": [
    {
     "name": "stdout",
     "output_type": "stream",
     "text": [
      "Tabla df_reviewPuente:\n",
      "                  user_id             business_id  \\\n",
      "0  WMqegYz_WSgAUNkQ5TBe7Q  pym7c6ZFEtmoH16xN2ApBg   \n",
      "1  ooZeJ-e9mymEFZfyC9hDLw  rsAhARGH9L-NkFGZjbjiYg   \n",
      "2  toOht-Wn-X3g30GFpMkP4w  sf0rWCnE4vHUlWncWOa3JQ   \n",
      "3  paLJY4aAvDztGJ81FouxXw  vBc9CU2T3EtY2CXn3MA19A   \n",
      "4  KoLUsGxu4aVGI6jLjjB02A  v_tEvT-3RRFHvP5hHfZYEg   \n",
      "\n",
      "                                                text  \n",
      "0  We ate here with our soccer team, 35 people. I...  \n",
      "1  I actually had a good experience here.  I firs...  \n",
      "2  Food here is really good. Was looking for a pl...  \n",
      "3  I love coming to this place for the pumice and...  \n",
      "4  We've been coming here for a few years and it'...   \n",
      "\n"
     ]
    }
   ],
   "source": [
    "# Leer la tabla df_reviewPuente\n",
    "df_review_puente = client.query(f\"\"\"\n",
    "    SELECT *\n",
    "    FROM `{PROJECT_ID}.{DATASET_ID}.df_reviewPuente`\n",
    "\"\"\").to_dataframe()\n",
    "\n",
    "print(\"Tabla df_reviewPuente:\")\n",
    "print(df_review_puente.head(), \"\\n\")\n"
   ]
  },
  {
   "cell_type": "code",
   "execution_count": 7,
   "id": "0574e9d3-b0b1-47df-b6f2-cee3dec0fa82",
   "metadata": {
    "tags": []
   },
   "outputs": [
    {
     "name": "stdout",
     "output_type": "stream",
     "text": [
      "Tabla groupedBusinessReviews:\n",
      "              business_id  anio  mes  user_count  avg_stars\n",
      "0  PP3BBaVxZLcJU54uP_wL6Q  2007    1           7   3.857143\n",
      "1  ytynqOUb3hjKeJfRj5Tshw  2007    1           4   4.750000\n",
      "2  Eqi8jrVowPBlCKAInDfFRw  2007    1           1   1.000000\n",
      "3  IkY2ticzHEn4QFn8hQLSWg  2006    1           1   1.000000\n",
      "4  JvawJ9bSr22xn4R9oLvl_w  2007    1           1   1.000000 \n",
      "\n"
     ]
    }
   ],
   "source": [
    "# Leer la tabla groupedBusinessReviews\n",
    "df_grouped_business = client.query(f\"\"\"\n",
    "    SELECT *\n",
    "    FROM `{PROJECT_ID}.{DATASET_ID}.groupedBusinessReviews`\n",
    "\"\"\").to_dataframe()\n",
    "\n",
    "print(\"Tabla groupedBusinessReviews:\")\n",
    "print(df_grouped_business.head(), \"\\n\")\n"
   ]
  },
  {
   "cell_type": "code",
   "execution_count": 8,
   "id": "24e8a45a-32bc-47fa-9ea3-395452c4cfd5",
   "metadata": {
    "tags": []
   },
   "outputs": [
    {
     "name": "stdout",
     "output_type": "stream",
     "text": [
      "Tabla groupedUsersReviews:\n",
      "                  user_id  anio  mes  business_count  avg_stars\n",
      "0  1OSARXZ-t1RDY2JgbLY_oQ  2008    1              41   2.833333\n",
      "1  6iLymfiarOsrajZNRfgsPw  2008    1              26   4.200000\n",
      "2  8MKygqfspKqG2-X9ycR-Ow  2008    1              32   3.200000\n",
      "3  BelCqypSxv-45Cosc6ZINw  2008    1               6   2.500000\n",
      "4  ET3TgSSQ3shm2mj5vZ8IVQ  2008    1              42   3.250000 \n",
      "\n"
     ]
    }
   ],
   "source": [
    "# Leer la tabla groupedUsersReviews\n",
    "df_grouped_users = client.query(f\"\"\"\n",
    "    SELECT *\n",
    "    FROM `{PROJECT_ID}.{DATASET_ID}.groupedUsersReviews`\n",
    "\"\"\").to_dataframe()\n",
    "\n",
    "print(\"Tabla groupedUsersReviews:\")\n",
    "print(df_grouped_users.head(), \"\\n\")"
   ]
  },
  {
   "cell_type": "code",
   "execution_count": 61,
   "id": "64c20eb4-9541-4790-a0f8-e16c64da23a5",
   "metadata": {
    "tags": []
   },
   "outputs": [],
   "source": [
    "# Crear el cliente de BigQuery (asegúrate de que la cuenta de servicio tenga permisos sobre el dataset)\n",
    "client = bigquery.Client(project=\"robotic-aviary-451823-k6\")\n"
   ]
  },
  {
   "cell_type": "code",
   "execution_count": 60,
   "id": "61d7ca41-6947-403c-8b72-bb3f23fa7a87",
   "metadata": {
    "tags": []
   },
   "outputs": [],
   "source": [
    "# Configurar la variable de entorno (opcional)\n",
    "os.environ[\"GOOGLE_CLOUD_PROJECT\"] = \"robotic-aviary-451823-k6\""
   ]
  },
  {
   "cell_type": "code",
   "execution_count": 15,
   "id": "1c1b8cd7-01b2-46a9-b02e-c96717e1abed",
   "metadata": {
    "tags": []
   },
   "outputs": [
    {
     "name": "stdout",
     "output_type": "stream",
     "text": [
      "Datos unificados (Business + TipYelp):\n",
      "              business_id            name state         city  avg_rating  \\\n",
      "0  CvNdlrRJWajPz7gWoQAeJQ    Metro Grille    LA     Flanders         3.0   \n",
      "1  l3pO6YTjFUgVoXgm3gfUag  Ichiban Buffet    FL  Cherry Hill         2.5   \n",
      "2  l3pO6YTjFUgVoXgm3gfUag  Ichiban Buffet    FL  Cherry Hill         2.5   \n",
      "3  l3pO6YTjFUgVoXgm3gfUag  Ichiban Buffet    FL  Cherry Hill         2.5   \n",
      "4  l3pO6YTjFUgVoXgm3gfUag  Ichiban Buffet    FL  Cherry Hill         2.5   \n",
      "\n",
      "  food_subcategory                                        review_text  \n",
      "0         Asiática                                               None  \n",
      "1         Asiática                                   Totally enjoyed.  \n",
      "2         Asiática                                Fried sugar donuts!  \n",
      "3         Asiática                           Mediocre and overpriced.  \n",
      "4         Asiática  If ur in the military or vet or police , fire ...  \n"
     ]
    }
   ],
   "source": [
    "# Consulta para unir la tabla Business con TipYelp (se puede usar df_reviewPuente en su lugar si asi se quiere).\n",
    "# Tomamos la calificación 'stars' de la tabla Business y las reseñas 'text' de TipYelp.\n",
    "query = \"\"\"\n",
    "SELECT\n",
    "  b.business_id,\n",
    "  b.name,\n",
    "  b.state,\n",
    "  b.city,\n",
    "  b.stars AS avg_rating,\n",
    "  b.food_subcategory,\n",
    "  t.text AS review_text\n",
    "FROM `robotic-aviary-451823-k6.cargaAzure.Business` AS b\n",
    "LEFT JOIN `robotic-aviary-451823-k6.cargaAzure.TipYelp` AS t\n",
    "  ON b.business_id = t.business_id\n",
    "\"\"\"\n",
    "\n",
    "df = client.query(query).to_dataframe()\n",
    "print(\"Datos unificados (Business + TipYelp):\")\n",
    "print(df.head())"
   ]
  },
  {
   "cell_type": "code",
   "execution_count": 20,
   "id": "6e616991-bb02-41c5-b0af-c17c5354286b",
   "metadata": {
    "tags": []
   },
   "outputs": [
    {
     "name": "stdout",
     "output_type": "stream",
     "text": [
      "Sentimiento promedio por restaurante:\n",
      "              business_id                          name state  \\\n",
      "0  ---kPU91CF4Lq2-WlRu9Lw             Frankie's Raw Bar    FL   \n",
      "1  --0iUa4sNDFiZFrAdIWhZQ  Pupuseria Y Restaurant Melba    LA   \n",
      "2  --7PUidqRWpRSpXebiyxTg    Humpty's Family Restaurant    NJ   \n",
      "3  --8IbOsAAxjKRoYsBFL-PA      The Original Italian Pie    LA   \n",
      "4  --MbOh2O1pATkXa7xbU6LA                  Sweet Lizard    PA   \n",
      "\n",
      "              city  avg_rating           food_subcategory  avg_sentiment  \n",
      "0  New Port Richey         4.5                    Seafood       0.738891  \n",
      "1        Clementon         3.0            Mexicana/Latina       0.328598  \n",
      "2         Edmonton         2.0                Restaurants       0.405556  \n",
      "3         Gentilly         3.0                   Italiana       0.355521  \n",
      "4           Tucson         4.0  Ice Cream & Frozen Yogurt       0.321917  \n"
     ]
    },
    {
     "data": {
      "text/plain": [
       "'\"\\nNota: sentiment.polarity devuelve un valor en el rango [-1.0, 1.0],\\ndonde valores cercanos a 1.0 indican reseñas más positivas y valores cercanos a -1.0 indican reseñas más negativas.\\n'"
      ]
     },
     "execution_count": 20,
     "metadata": {},
     "output_type": "execute_result"
    }
   ],
   "source": [
    "# 1) Calcular sentimiento de cada reseña\n",
    "def get_sentiment_polarity(text):\n",
    "    if pd.isnull(text) or not isinstance(text, str) or text.strip() == \"\":\n",
    "        return np.nan  # o 0.0, como prefieras manejar reseñas vacías\n",
    "    analysis = TextBlob(text)\n",
    "    return analysis.sentiment.polarity\n",
    "\n",
    "df['sentiment'] = df['review_text'].apply(get_sentiment_polarity)\n",
    "\n",
    "# 2) Agrupar por restaurante y calcular promedio de sentimiento\n",
    "df_sentiment = (\n",
    "    df.groupby(['business_id', 'name', 'state', 'city', 'avg_rating', 'food_subcategory'], as_index=False)\n",
    "      .agg(avg_sentiment=('sentiment', 'mean'))\n",
    ")\n",
    "\n",
    "print(\"Sentimiento promedio por restaurante:\")\n",
    "print(df_sentiment.head())\n",
    "\n",
    "\n",
    "\"\"\"Nota: sentiment.polarity devuelve un valor en el rango [-1.0, 1.0],\n",
    "donde valores cercanos a 1.0 indican reseñas más positivas y valores cercanos a -1.0 indican reseñas más negativas.\"\"\"\n"
   ]
  },
  {
   "cell_type": "code",
   "execution_count": 23,
   "id": "c6d57854-7c52-43e5-9e84-3359cb6911e8",
   "metadata": {
    "tags": []
   },
   "outputs": [
    {
     "data": {
      "text/html": [
       "<div>\n",
       "<style scoped>\n",
       "    .dataframe tbody tr th:only-of-type {\n",
       "        vertical-align: middle;\n",
       "    }\n",
       "\n",
       "    .dataframe tbody tr th {\n",
       "        vertical-align: top;\n",
       "    }\n",
       "\n",
       "    .dataframe thead th {\n",
       "        text-align: right;\n",
       "    }\n",
       "</style>\n",
       "<table border=\"1\" class=\"dataframe\">\n",
       "  <thead>\n",
       "    <tr style=\"text-align: right;\">\n",
       "      <th></th>\n",
       "      <th>business_id</th>\n",
       "      <th>name</th>\n",
       "      <th>state</th>\n",
       "      <th>city</th>\n",
       "      <th>avg_rating</th>\n",
       "      <th>food_subcategory</th>\n",
       "      <th>avg_sentiment</th>\n",
       "      <th>combined_score</th>\n",
       "    </tr>\n",
       "  </thead>\n",
       "  <tbody>\n",
       "    <tr>\n",
       "      <th>45627</th>\n",
       "      <td>h7wpU50JpFK2nhBwgmUXYw</td>\n",
       "      <td>Prest Coffee Drive Thru</td>\n",
       "      <td>LA</td>\n",
       "      <td>Tucson</td>\n",
       "      <td>5.0</td>\n",
       "      <td>Coffee &amp; Tea</td>\n",
       "      <td>1.0</td>\n",
       "      <td>5.5</td>\n",
       "    </tr>\n",
       "    <tr>\n",
       "      <th>19452</th>\n",
       "      <td>IIwk3EkkJsyFET5fv9_eqg</td>\n",
       "      <td>Crooked Fence Brewing</td>\n",
       "      <td>PA</td>\n",
       "      <td>Garden City</td>\n",
       "      <td>5.0</td>\n",
       "      <td>Bars</td>\n",
       "      <td>1.0</td>\n",
       "      <td>5.5</td>\n",
       "    </tr>\n",
       "    <tr>\n",
       "      <th>36576</th>\n",
       "      <td>ZDinrfm2fP1WIy6IqUFyCw</td>\n",
       "      <td>Petri Cafe</td>\n",
       "      <td>MO</td>\n",
       "      <td>Granite City</td>\n",
       "      <td>5.0</td>\n",
       "      <td>Restaurants</td>\n",
       "      <td>1.0</td>\n",
       "      <td>5.5</td>\n",
       "    </tr>\n",
       "    <tr>\n",
       "      <th>20482</th>\n",
       "      <td>JMM7KTq_PIyazBtwV9MoEg</td>\n",
       "      <td>Willow Creek Orchards</td>\n",
       "      <td>LA</td>\n",
       "      <td>Collegeville</td>\n",
       "      <td>5.0</td>\n",
       "      <td>General Food</td>\n",
       "      <td>1.0</td>\n",
       "      <td>5.5</td>\n",
       "    </tr>\n",
       "    <tr>\n",
       "      <th>20442</th>\n",
       "      <td>JJFAsvwHJRwv1Z6P-j2xQA</td>\n",
       "      <td>Munchies</td>\n",
       "      <td>IN</td>\n",
       "      <td>Chalmette</td>\n",
       "      <td>5.0</td>\n",
       "      <td>Mexicana/Latina</td>\n",
       "      <td>1.0</td>\n",
       "      <td>5.5</td>\n",
       "    </tr>\n",
       "    <tr>\n",
       "      <th>25192</th>\n",
       "      <td>O3UQ628x3iSKR33cM3cEtw</td>\n",
       "      <td>Snowflake Dessert Factory</td>\n",
       "      <td>PA</td>\n",
       "      <td>Pinellas Park</td>\n",
       "      <td>5.0</td>\n",
       "      <td>Coffee &amp; Tea</td>\n",
       "      <td>1.0</td>\n",
       "      <td>5.5</td>\n",
       "    </tr>\n",
       "    <tr>\n",
       "      <th>49887</th>\n",
       "      <td>lKpn89NMIY8E54gkOVYodw</td>\n",
       "      <td>Music City Brew Tours</td>\n",
       "      <td>PA</td>\n",
       "      <td>Nashville</td>\n",
       "      <td>5.0</td>\n",
       "      <td>Bars</td>\n",
       "      <td>1.0</td>\n",
       "      <td>5.5</td>\n",
       "    </tr>\n",
       "    <tr>\n",
       "      <th>51840</th>\n",
       "      <td>nK_-VSm_Bx4qjMtVmVuwXQ</td>\n",
       "      <td>Mr B's Bakery</td>\n",
       "      <td>NV</td>\n",
       "      <td>New Orleans</td>\n",
       "      <td>5.0</td>\n",
       "      <td>Bakeries</td>\n",
       "      <td>1.0</td>\n",
       "      <td>5.5</td>\n",
       "    </tr>\n",
       "    <tr>\n",
       "      <th>55540</th>\n",
       "      <td>qzNMDrjffJGMa1TVgmdS0g</td>\n",
       "      <td>Nicely's Jamaican Kitchen</td>\n",
       "      <td>PA</td>\n",
       "      <td>Wilmington</td>\n",
       "      <td>5.0</td>\n",
       "      <td>Seafood</td>\n",
       "      <td>1.0</td>\n",
       "      <td>5.5</td>\n",
       "    </tr>\n",
       "    <tr>\n",
       "      <th>44886</th>\n",
       "      <td>gOS6rbrF6E42M4Iv0rEpZw</td>\n",
       "      <td>Little Pete's Steaks</td>\n",
       "      <td>AZ</td>\n",
       "      <td>Philadelphia</td>\n",
       "      <td>5.0</td>\n",
       "      <td>Restaurants</td>\n",
       "      <td>1.0</td>\n",
       "      <td>5.5</td>\n",
       "    </tr>\n",
       "  </tbody>\n",
       "</table>\n",
       "</div>"
      ],
      "text/plain": [
       "                  business_id                       name state           city  \\\n",
       "45627  h7wpU50JpFK2nhBwgmUXYw    Prest Coffee Drive Thru    LA         Tucson   \n",
       "19452  IIwk3EkkJsyFET5fv9_eqg      Crooked Fence Brewing    PA    Garden City   \n",
       "36576  ZDinrfm2fP1WIy6IqUFyCw                 Petri Cafe    MO   Granite City   \n",
       "20482  JMM7KTq_PIyazBtwV9MoEg      Willow Creek Orchards    LA   Collegeville   \n",
       "20442  JJFAsvwHJRwv1Z6P-j2xQA                   Munchies    IN      Chalmette   \n",
       "25192  O3UQ628x3iSKR33cM3cEtw  Snowflake Dessert Factory    PA  Pinellas Park   \n",
       "49887  lKpn89NMIY8E54gkOVYodw      Music City Brew Tours    PA      Nashville   \n",
       "51840  nK_-VSm_Bx4qjMtVmVuwXQ              Mr B's Bakery    NV    New Orleans   \n",
       "55540  qzNMDrjffJGMa1TVgmdS0g  Nicely's Jamaican Kitchen    PA     Wilmington   \n",
       "44886  gOS6rbrF6E42M4Iv0rEpZw       Little Pete's Steaks    AZ   Philadelphia   \n",
       "\n",
       "       avg_rating food_subcategory  avg_sentiment  combined_score  \n",
       "45627         5.0     Coffee & Tea            1.0             5.5  \n",
       "19452         5.0             Bars            1.0             5.5  \n",
       "36576         5.0      Restaurants            1.0             5.5  \n",
       "20482         5.0     General Food            1.0             5.5  \n",
       "20442         5.0  Mexicana/Latina            1.0             5.5  \n",
       "25192         5.0     Coffee & Tea            1.0             5.5  \n",
       "49887         5.0             Bars            1.0             5.5  \n",
       "51840         5.0         Bakeries            1.0             5.5  \n",
       "55540         5.0          Seafood            1.0             5.5  \n",
       "44886         5.0      Restaurants            1.0             5.5  "
      ]
     },
     "execution_count": 23,
     "metadata": {},
     "output_type": "execute_result"
    }
   ],
   "source": [
    "\"\"\"Creamos un score combinado con respecto a avg_rating y avg_sentiment para usarlos en la recomendacion siguiendo la siguiente formula:\n",
    "score = α × avg_rating + β × avg_sentiment  donde 𝛼 y 𝛽 son pesos a definir. Un ejemplo simple:\"\"\"\n",
    "# Digamos que la calificación (1-5) la valoramos más que el sentimiento, \n",
    "# así que le damos un peso mayor a avg_rating\n",
    "alpha = 1.0  # peso para la calificación\n",
    "beta = 0.5   # peso para el sentimiento\n",
    "\n",
    "df_sentiment['combined_score'] = (\n",
    "    alpha * df_sentiment['avg_rating'] + \n",
    "    beta * df_sentiment['avg_sentiment']\n",
    ")\n",
    "\n",
    "# Ordenar descendentemente por el score combinado\n",
    "df_sentiment.sort_values(by='combined_score', ascending=False, inplace=True)\n",
    "df_sentiment.head(10)\n",
    "\n"
   ]
  },
  {
   "cell_type": "code",
   "execution_count": 28,
   "id": "0e9682dd-a37c-4cd3-97b3-35808e541393",
   "metadata": {
    "tags": []
   },
   "outputs": [
    {
     "name": "stdout",
     "output_type": "stream",
     "text": [
      "Recomendaciones:\n",
      "                                                    name state            city  \\\n",
      "24586                                   Grain and Berry    CA  St. Petersburg   \n",
      "12454                                           Nourish    CA    Philadelphia   \n",
      "63353                                    House of India    CA        Franklin   \n",
      "23777  India's Grill Brandon - Authentic Indian Cuisine    CA         Brandon   \n",
      "63674                                       Cafe Bamboo    CA     New Orleans   \n",
      "\n",
      "       combined_score    food_subcategory  \n",
      "24586        5.000000  Vegetariana/Vegana  \n",
      "12454        4.819444  Vegetariana/Vegana  \n",
      "63353        4.780900  Vegetariana/Vegana  \n",
      "23777        4.759375  Vegetariana/Vegana  \n",
      "63674        4.727462  Vegetariana/Vegana  \n"
     ]
    }
   ],
   "source": [
    "\"\"\"\n",
    "FUNCION DE RECOMENDACION CON FILTROS EN BASE A CATEGORIA, RATING Y ESTADO \n",
    "\n",
    "El usuario podría ingresar:\n",
    "\n",
    "Tipo de comida (filtrar por food_subcategory).\n",
    "Calificación promedio mínima (o un rango).\n",
    "Estado (columna state).\n",
    "\"\"\"\n",
    "\n",
    "def recommend_restaurants(food_type=None, min_rating=None, state=None, top_n=10):\n",
    "    \"\"\"\n",
    "    Retorna recomendaciones de restaurantes en función de:\n",
    "      - Tipo de comida (food_subcategory).\n",
    "      - Calificación mínima (avg_rating).\n",
    "      - Estado (state).\n",
    "      - Score combinado (combined_score).\n",
    "    \n",
    "    Parámetros:\n",
    "      - food_type (str, opcional): tipo de comida (ej: \"Seafood\", \"Pizza\", etc.)\n",
    "      - min_rating (float, opcional): calificación mínima (ej: 3.5)\n",
    "      - state (str, opcional): abreviatura del estado (ej: \"CA\", \"NY\")\n",
    "      - top_n (int): cuántos restaurantes recomendar\n",
    "      \n",
    "    Retorna:\n",
    "      - DataFrame con las columnas de interés, ordenado por combined_score descendente.\n",
    "    \"\"\"\n",
    "    df_filter = df_sentiment.copy()\n",
    "    \n",
    "    # Filtrar por tipo de comida\n",
    "    if food_type:\n",
    "        df_filter = df_filter[\n",
    "            df_filter['food_subcategory'].str.contains(food_type, case=False, na=False)\n",
    "        ]\n",
    "    \n",
    "    # Filtrar por calificación mínima\n",
    "    if min_rating is not None:\n",
    "        df_filter = df_filter[df_filter['avg_rating'] >= min_rating]\n",
    "    \n",
    "    # Filtrar por estado\n",
    "    if state:\n",
    "        df_filter = df_filter[df_filter['state'].str.upper() == state.upper()]\n",
    "    \n",
    "    # Ordenar por el score combinado\n",
    "    df_filter = df_filter.sort_values(by='combined_score', ascending=False)\n",
    "    \n",
    "    # Seleccionar columnas de interés\n",
    "    columns = ['name', 'state', 'city', 'combined_score', 'food_subcategory']\n",
    "    return df_filter[columns].head(top_n)\n",
    "\n",
    "# Ejemplo de uso\n",
    "recommended = recommend_restaurants(food_type=\"Vegetariana\", min_rating=4, state=\"CA\", top_n=5)\n",
    "print(\"Recomendaciones:\\n\", recommended)\n",
    "\n"
   ]
  },
  {
   "cell_type": "code",
   "execution_count": 29,
   "id": "404c5f6a-8b31-49ad-b4fd-72e5a2f32117",
   "metadata": {
    "tags": []
   },
   "outputs": [
    {
     "name": "stdout",
     "output_type": "stream",
     "text": [
      "Collecting streamlit\n",
      "  Downloading streamlit-1.43.2-py2.py3-none-any.whl.metadata (8.9 kB)\n",
      "Collecting altair<6,>=4.0 (from streamlit)\n",
      "  Downloading altair-5.5.0-py3-none-any.whl.metadata (11 kB)\n",
      "Collecting blinker<2,>=1.0.0 (from streamlit)\n",
      "  Downloading blinker-1.9.0-py3-none-any.whl.metadata (1.6 kB)\n",
      "Requirement already satisfied: cachetools<6,>=4.0 in /opt/conda/lib/python3.10/site-packages (from streamlit) (5.5.1)\n",
      "Requirement already satisfied: click<9,>=7.0 in /opt/conda/lib/python3.10/site-packages (from streamlit) (8.1.8)\n",
      "Requirement already satisfied: numpy<3,>=1.23 in /opt/conda/lib/python3.10/site-packages (from streamlit) (1.26.4)\n",
      "Requirement already satisfied: packaging<25,>=20 in /opt/conda/lib/python3.10/site-packages (from streamlit) (24.2)\n",
      "Requirement already satisfied: pandas<3,>=1.4.0 in /opt/conda/lib/python3.10/site-packages (from streamlit) (2.2.3)\n",
      "Requirement already satisfied: pillow<12,>=7.1.0 in /opt/conda/lib/python3.10/site-packages (from streamlit) (11.1.0)\n",
      "Requirement already satisfied: protobuf<6,>=3.20 in /opt/conda/lib/python3.10/site-packages (from streamlit) (3.20.3)\n",
      "Requirement already satisfied: pyarrow>=7.0 in /opt/conda/lib/python3.10/site-packages (from streamlit) (15.0.2)\n",
      "Requirement already satisfied: requests<3,>=2.27 in /opt/conda/lib/python3.10/site-packages (from streamlit) (2.32.3)\n",
      "Requirement already satisfied: tenacity<10,>=8.1.0 in /opt/conda/lib/python3.10/site-packages (from streamlit) (9.0.0)\n",
      "Collecting toml<2,>=0.10.1 (from streamlit)\n",
      "  Downloading toml-0.10.2-py2.py3-none-any.whl.metadata (7.1 kB)\n",
      "Requirement already satisfied: typing-extensions<5,>=4.4.0 in /opt/conda/lib/python3.10/site-packages (from streamlit) (4.12.2)\n",
      "Collecting watchdog<7,>=2.1.5 (from streamlit)\n",
      "  Downloading watchdog-6.0.0-py3-none-manylinux2014_x86_64.whl.metadata (44 kB)\n",
      "Requirement already satisfied: gitpython!=3.1.19,<4,>=3.0.7 in /opt/conda/lib/python3.10/site-packages (from streamlit) (3.1.44)\n",
      "Collecting pydeck<1,>=0.8.0b4 (from streamlit)\n",
      "  Downloading pydeck-0.9.1-py2.py3-none-any.whl.metadata (4.1 kB)\n",
      "Requirement already satisfied: tornado<7,>=6.0.3 in /opt/conda/lib/python3.10/site-packages (from streamlit) (6.4.2)\n",
      "Requirement already satisfied: jinja2 in /opt/conda/lib/python3.10/site-packages (from altair<6,>=4.0->streamlit) (3.1.5)\n",
      "Requirement already satisfied: jsonschema>=3.0 in /opt/conda/lib/python3.10/site-packages (from altair<6,>=4.0->streamlit) (4.23.0)\n",
      "Requirement already satisfied: narwhals>=1.14.2 in /opt/conda/lib/python3.10/site-packages (from altair<6,>=4.0->streamlit) (1.25.1)\n",
      "Requirement already satisfied: gitdb<5,>=4.0.1 in /opt/conda/lib/python3.10/site-packages (from gitpython!=3.1.19,<4,>=3.0.7->streamlit) (4.0.12)\n",
      "Requirement already satisfied: python-dateutil>=2.8.2 in /opt/conda/lib/python3.10/site-packages (from pandas<3,>=1.4.0->streamlit) (2.9.0.post0)\n",
      "Requirement already satisfied: pytz>=2020.1 in /opt/conda/lib/python3.10/site-packages (from pandas<3,>=1.4.0->streamlit) (2025.1)\n",
      "Requirement already satisfied: tzdata>=2022.7 in /opt/conda/lib/python3.10/site-packages (from pandas<3,>=1.4.0->streamlit) (2025.1)\n",
      "Requirement already satisfied: charset_normalizer<4,>=2 in /opt/conda/lib/python3.10/site-packages (from requests<3,>=2.27->streamlit) (3.4.1)\n",
      "Requirement already satisfied: idna<4,>=2.5 in /opt/conda/lib/python3.10/site-packages (from requests<3,>=2.27->streamlit) (3.10)\n",
      "Requirement already satisfied: urllib3<3,>=1.21.1 in /opt/conda/lib/python3.10/site-packages (from requests<3,>=2.27->streamlit) (1.26.20)\n",
      "Requirement already satisfied: certifi>=2017.4.17 in /opt/conda/lib/python3.10/site-packages (from requests<3,>=2.27->streamlit) (2024.12.14)\n",
      "Requirement already satisfied: smmap<6,>=3.0.1 in /opt/conda/lib/python3.10/site-packages (from gitdb<5,>=4.0.1->gitpython!=3.1.19,<4,>=3.0.7->streamlit) (5.0.2)\n",
      "Requirement already satisfied: MarkupSafe>=2.0 in /opt/conda/lib/python3.10/site-packages (from jinja2->altair<6,>=4.0->streamlit) (3.0.2)\n",
      "Requirement already satisfied: attrs>=22.2.0 in /opt/conda/lib/python3.10/site-packages (from jsonschema>=3.0->altair<6,>=4.0->streamlit) (25.1.0)\n",
      "Requirement already satisfied: jsonschema-specifications>=2023.03.6 in /opt/conda/lib/python3.10/site-packages (from jsonschema>=3.0->altair<6,>=4.0->streamlit) (2024.10.1)\n",
      "Requirement already satisfied: referencing>=0.28.4 in /opt/conda/lib/python3.10/site-packages (from jsonschema>=3.0->altair<6,>=4.0->streamlit) (0.36.2)\n",
      "Requirement already satisfied: rpds-py>=0.7.1 in /opt/conda/lib/python3.10/site-packages (from jsonschema>=3.0->altair<6,>=4.0->streamlit) (0.22.3)\n",
      "Requirement already satisfied: six>=1.5 in /opt/conda/lib/python3.10/site-packages (from python-dateutil>=2.8.2->pandas<3,>=1.4.0->streamlit) (1.17.0)\n",
      "Downloading streamlit-1.43.2-py2.py3-none-any.whl (9.7 MB)\n",
      "\u001b[2K   \u001b[90m━━━━━━━━━━━━━━━━━━━━━━━━━━━━━━━━━━━━━━━━\u001b[0m \u001b[32m9.7/9.7 MB\u001b[0m \u001b[31m90.3 MB/s\u001b[0m eta \u001b[36m0:00:00\u001b[0m\n",
      "\u001b[?25hDownloading altair-5.5.0-py3-none-any.whl (731 kB)\n",
      "\u001b[2K   \u001b[90m━━━━━━━━━━━━━━━━━━━━━━━━━━━━━━━━━━━━━━━━\u001b[0m \u001b[32m731.2/731.2 kB\u001b[0m \u001b[31m36.9 MB/s\u001b[0m eta \u001b[36m0:00:00\u001b[0m\n",
      "\u001b[?25hDownloading blinker-1.9.0-py3-none-any.whl (8.5 kB)\n",
      "Downloading pydeck-0.9.1-py2.py3-none-any.whl (6.9 MB)\n",
      "\u001b[2K   \u001b[90m━━━━━━━━━━━━━━━━━━━━━━━━━━━━━━━━━━━━━━━━\u001b[0m \u001b[32m6.9/6.9 MB\u001b[0m \u001b[31m100.6 MB/s\u001b[0m eta \u001b[36m0:00:00\u001b[0m\n",
      "\u001b[?25hDownloading toml-0.10.2-py2.py3-none-any.whl (16 kB)\n",
      "Downloading watchdog-6.0.0-py3-none-manylinux2014_x86_64.whl (79 kB)\n",
      "Installing collected packages: watchdog, toml, blinker, pydeck, altair, streamlit\n",
      "Successfully installed altair-5.5.0 blinker-1.9.0 pydeck-0.9.1 streamlit-1.43.2 toml-0.10.2 watchdog-6.0.0\n",
      "\n",
      "\u001b[1m[\u001b[0m\u001b[34;49mnotice\u001b[0m\u001b[1;39;49m]\u001b[0m\u001b[39;49m A new release of pip is available: \u001b[0m\u001b[31;49m25.0\u001b[0m\u001b[39;49m -> \u001b[0m\u001b[32;49m25.0.1\u001b[0m\n",
      "\u001b[1m[\u001b[0m\u001b[34;49mnotice\u001b[0m\u001b[1;39;49m]\u001b[0m\u001b[39;49m To update, run: \u001b[0m\u001b[32;49mpip install --upgrade pip\u001b[0m\n",
      "Note: you may need to restart the kernel to use updated packages.\n"
     ]
    }
   ],
   "source": [
    "pip install streamlit\n"
   ]
  }
 ],
 "metadata": {
  "environment": {
   "kernel": "conda-base-py",
   "name": "workbench-notebooks.m128",
   "type": "gcloud",
   "uri": "us-docker.pkg.dev/deeplearning-platform-release/gcr.io/workbench-notebooks:m128"
  },
  "kernelspec": {
   "display_name": "Python 3 (ipykernel) (Local)",
   "language": "python",
   "name": "conda-base-py"
  },
  "language_info": {
   "codemirror_mode": {
    "name": "ipython",
    "version": 3
   },
   "file_extension": ".py",
   "mimetype": "text/x-python",
   "name": "python",
   "nbconvert_exporter": "python",
   "pygments_lexer": "ipython3",
   "version": "3.10.16"
  }
 },
 "nbformat": 4,
 "nbformat_minor": 5
}
